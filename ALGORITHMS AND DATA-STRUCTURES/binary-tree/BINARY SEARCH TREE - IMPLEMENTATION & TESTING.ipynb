{
 "cells": [
  {
   "cell_type": "code",
   "execution_count": 1,
   "id": "6fa8fc9b",
   "metadata": {},
   "outputs": [],
   "source": [
    "# Tree node definition\n",
    "class Node:\n",
    "    '''single node representation'''\n",
    "    def __init__(self, value, parent=None):\n",
    "        self.value = value\n",
    "        self.left = None\n",
    "        self.right = None\n",
    "        self.parent = parent"
   ]
  },
  {
   "cell_type": "code",
   "execution_count": 2,
   "id": "c46633ba",
   "metadata": {},
   "outputs": [],
   "source": [
    "# Binary Search Tree definition\n",
    "class BinarySearchTree:\n",
    "\n",
    "    def __init__(self):\n",
    "        self.root = None\n",
    "\n",
    "    def insert(self, value):\n",
    "        '''insert operation method'''\n",
    "        # if root is none there is the first insertion\n",
    "        if self.root is None:\n",
    "            self.root = Node(value)\n",
    "        else:\n",
    "            # BST is not empty\n",
    "            self.insert_node(value, self.root)\n",
    "\n",
    "    def insert_node(self, data, node):\n",
    "        '''internal method which insert new node recursively'''\n",
    "        if data < node.value:\n",
    "            # we check the left subtree\n",
    "            if node.left is not None:\n",
    "                # the current node has a left child\n",
    "                # then we continue traversing the tree\n",
    "                self.insert_node(data, node.left)\n",
    "            else:\n",
    "                # we reach a leaf node so we insert the new one\n",
    "                node.left = Node(data, node)\n",
    "        else:\n",
    "            # we check the right subtree\n",
    "            if node.right is not None:\n",
    "                # the current node has a right child\n",
    "                # then we continue traversing the tree\n",
    "                self.insert_node(data, node.right)\n",
    "            else:\n",
    "                # we reach a leaf node so we insert the new one\n",
    "                node.right = Node(data, node)\n",
    "\n",
    "    def delete(self, value):\n",
    "        if self.root is not None:\n",
    "            self.remove_node(value, self.root)\n",
    "\n",
    "    def remove_node(self, data, node):\n",
    "        '''remove recursively the node, where node.value = data'''\n",
    "        # base case\n",
    "        if node is None:\n",
    "            return\n",
    "        # 1. search for the node to be removed\n",
    "        if data < node.value:\n",
    "            self.remove_node(data, node.left)\n",
    "        elif data > node.value:\n",
    "            self.remove_node(data, node.right)\n",
    "        else:\n",
    "            # we found the node\n",
    "            # case 1: we are dealing with a leaf node\n",
    "            if node.left is None and node.right is None:\n",
    "                # get reference for parent node\n",
    "                parent = node.parent\n",
    "                # if parent node is not root and left child is the leaf node\n",
    "                if parent is not None and parent.left == node:\n",
    "                    # notify parent (pointing to null)\n",
    "                    parent.left = None\n",
    "                elif parent is not None and parent.right == node:\n",
    "                    # notify parent (pointing to null)\n",
    "                    parent.right = None\n",
    "                # node that we want to remove is root node\n",
    "                elif parent is None:\n",
    "                    self.root = None\n",
    "                # once we notify to parent node we delete the item\n",
    "                del node\n",
    "\n",
    "            # case 2: we are dealing with parent node with single child\n",
    "            elif node.left is not None and node.right is None:\n",
    "                # get reference for parent node\n",
    "                parent = node.parent\n",
    "\n",
    "                if parent is not None and parent.left == node:\n",
    "                    # notify parent linking the left child\n",
    "                    parent.left = node.left\n",
    "                elif parent is not None and parent.right == node:\n",
    "                    # notify parent linking the left child\n",
    "                    parent.right = node.left\n",
    "                elif parent is None:\n",
    "                    self.root = node.left\n",
    "                # once we notify to parent node we delete the item\n",
    "                del node\n",
    "            \n",
    "            elif node.right is not None and node.left is None:\n",
    "                # get reference for parent node\n",
    "                parent = node.parent\n",
    "\n",
    "                if parent is not None and parent.left == node:\n",
    "                    # notify parent linking the right child\n",
    "                    parent.left = node.right\n",
    "                elif parent is not None and parent.right == node:\n",
    "                    # notify parent linking the right child\n",
    "                    parent.right = node.right\n",
    "                elif parent is None:\n",
    "                    self.root = node.right\n",
    "                # once we notify to parent node we delete the item\n",
    "                del node\n",
    "\n",
    "            # case 3: we are dealing with parent with two childs\n",
    "            else:\n",
    "                # search for the node's predecessor (max value in left subtree)\n",
    "                predecessor = self.get_predecessor(node.left)\n",
    "                # swap values: node <> predecessor\n",
    "                node.value, predecessor.value = predecessor.value, node.value\n",
    "                # then node is now at predecessor position, so we remove it\n",
    "                self.remove_node(data, predecessor)\n",
    "            \n",
    "    def get_predecessor(self, node):\n",
    "        '''returns the predecessor of node'''\n",
    "        if node.right:\n",
    "            return self.get_predecessor(node.right)\n",
    "        return node\n",
    "\n",
    "    def get_min(self):\n",
    "        '''return the minimum value in the BST'''\n",
    "        if self.root is not None:\n",
    "            return self.get_min_value(self.root)\n",
    "\n",
    "    def get_min_value(self, node):\n",
    "        '''get the left most node in the BST recursively'''\n",
    "        if node.left is not None:\n",
    "            return self.get_min_value(node.left)\n",
    "        else:\n",
    "            return node.value\n",
    "\n",
    "    def get_max(self):\n",
    "        '''return the maximun value in the BST'''\n",
    "        if self.root is not None:\n",
    "            return self.get_max_value(self.root)\n",
    "\n",
    "    def get_max_value(self, node):\n",
    "        '''get the right most node in the BST recursively'''\n",
    "        if node.right is not None:\n",
    "            return self.get_max_value(node.right)\n",
    "        else:\n",
    "            return node.value\n",
    "\n",
    "    def traverse(self):\n",
    "        '''treaverse the BST'''\n",
    "        if self.root is not None:\n",
    "            return self.traverse_in_order(self.root)\n",
    "\n",
    "    def traverse_in_order(self, node):\n",
    "        '''BST In-Order traversal recursively\n",
    "        in-order: left subtree > root > right subtree\n",
    "        '''\n",
    "        # we start at the left subtree (calling it until reach a leaf node)\n",
    "        if node.left is not None:\n",
    "            self.traverse_in_order(node.left)\n",
    "        # oncce we reach a leaf node we print the value\n",
    "        # notice that left > root > right refers to three nodes\n",
    "        # left child - parent - right child, where parent = root\n",
    "        print(node.value)\n",
    "        # we continue with the right subtree (calling it until reach a leaf node)\n",
    "        if node.right is not None:\n",
    "            self.traverse_in_order(node.right)\n",
    "            "
   ]
  },
  {
   "cell_type": "markdown",
   "id": "6af60d23",
   "metadata": {},
   "source": [
    "### To test proper implementation the next tree is used ...\n",
    "\n",
    "<p align=\"center\">\n",
    "<img src=\"../static/binary-search-tree.png\" alt=\"Tree\" width=\"400\" height=\"400\" />\n",
    "<br>\n",
    "</p>"
   ]
  },
  {
   "cell_type": "code",
   "execution_count": 3,
   "id": "316c4347",
   "metadata": {},
   "outputs": [],
   "source": [
    "tree = BinarySearchTree()"
   ]
  },
  {
   "cell_type": "code",
   "execution_count": 4,
   "id": "2d369f5e",
   "metadata": {
    "scrolled": true
   },
   "outputs": [],
   "source": [
    "# insert values in BST\n",
    "tree.insert(12)\n",
    "tree.insert(20)\n",
    "tree.insert(4)\n",
    "tree.insert(1)\n",
    "tree.insert(5)"
   ]
  },
  {
   "cell_type": "code",
   "execution_count": 5,
   "id": "e56ae84c",
   "metadata": {},
   "outputs": [
    {
     "name": "stdout",
     "output_type": "stream",
     "text": [
      "1\n",
      "4\n",
      "5\n",
      "12\n",
      "20\n"
     ]
    }
   ],
   "source": [
    "# traverse in order\n",
    "tree.traverse()"
   ]
  },
  {
   "cell_type": "code",
   "execution_count": 6,
   "id": "051e26ab",
   "metadata": {},
   "outputs": [],
   "source": [
    "# remove root node ...\n",
    "tree.delete(12)"
   ]
  },
  {
   "cell_type": "code",
   "execution_count": 7,
   "id": "22394acc",
   "metadata": {},
   "outputs": [
    {
     "data": {
      "text/plain": [
       "5"
      ]
     },
     "execution_count": 7,
     "metadata": {},
     "output_type": "execute_result"
    }
   ],
   "source": [
    "# checking new root node ...\n",
    "tree.root.value"
   ]
  },
  {
   "cell_type": "code",
   "execution_count": 8,
   "id": "86e76bbe",
   "metadata": {},
   "outputs": [
    {
     "name": "stdout",
     "output_type": "stream",
     "text": [
      "1\n",
      "4\n",
      "5\n",
      "20\n"
     ]
    }
   ],
   "source": [
    "# traverse tree\n",
    "tree.traverse()"
   ]
  },
  {
   "cell_type": "code",
   "execution_count": 9,
   "id": "fddbcac7",
   "metadata": {},
   "outputs": [
    {
     "name": "stdout",
     "output_type": "stream",
     "text": [
      "minimum value = 1\n",
      "maximum value = 20\n"
     ]
    }
   ],
   "source": [
    "# get minimum and maximum values in the tree ...\n",
    "print(f'minimum value = {tree.get_min()}')\n",
    "print(f'maximum value = {tree.get_max()}')"
   ]
  },
  {
   "cell_type": "code",
   "execution_count": null,
   "id": "ebb5e652",
   "metadata": {},
   "outputs": [],
   "source": []
  }
 ],
 "metadata": {
  "kernelspec": {
   "display_name": "Python 3 (ipykernel)",
   "language": "python",
   "name": "python3"
  },
  "language_info": {
   "codemirror_mode": {
    "name": "ipython",
    "version": 3
   },
   "file_extension": ".py",
   "mimetype": "text/x-python",
   "name": "python",
   "nbconvert_exporter": "python",
   "pygments_lexer": "ipython3",
   "version": "3.9.7"
  }
 },
 "nbformat": 4,
 "nbformat_minor": 5
}
